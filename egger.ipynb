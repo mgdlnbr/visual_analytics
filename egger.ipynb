{
 "cells": [
  {
   "cell_type": "code",
   "execution_count": 1,
   "metadata": {},
   "outputs": [],
   "source": [
    "import pandas as pd\n",
    "from sklearn.model_selection import train_test_split\n",
    "import numpy as np\n",
    "import matplotlib.pyplot as plt\n",
    "import matplotlib.dates as mdates\n",
    "import datetime as dt"
   ]
  },
  {
   "cell_type": "markdown",
   "metadata": {},
   "source": [
    "Vier CSV-Dateien von Sensordaten: Luftfitlter, Pumpendruck, Zylinderdruck sowie das Event-Log (Ausfall der Maschine mit Fehlercode)"
   ]
  },
  {
   "cell_type": "code",
   "execution_count": 2,
   "metadata": {},
   "outputs": [],
   "source": [
    "#Laden der Dateien\n",
    "luftfilter = pd.read_csv(\"G0046_Luftfilter_Tank1.csv\")\n",
    "pumpe = pd.read_csv(\"G0046_Pumpendruck_Druckhaltpumpe.csv\", nrows=200000) \n",
    "zylinder = pd.read_csv(\"G0046_Zylinderdruck_1_Pressdruck.csv\")\n",
    "events = pd.read_csv(\"events.csv\")"
   ]
  },
  {
   "cell_type": "code",
   "execution_count": 3,
   "metadata": {},
   "outputs": [],
   "source": [
    "#Conversion von Spalte DateTime zu 'DateTime'\n",
    "luftfilter['DateTime'] = pd.to_datetime(luftfilter.DateTime)\n",
    "pumpe['DateTime'] = pd.to_datetime(pumpe.DateTime)\n",
    "zylinder['DateTime'] = pd.to_datetime(zylinder.DateTime)"
   ]
  },
  {
   "cell_type": "markdown",
   "metadata": {},
   "source": [
    "Datensatz ist sehr groß -> Merge würde zu großen Sparsen Matrix führen. Daher Binning in 6 Stunden intervalle"
   ]
  },
  {
   "cell_type": "code",
   "execution_count": 4,
   "metadata": {},
   "outputs": [],
   "source": [
    "luftfilter = luftfilter.groupby(pd.Grouper(key='DateTime', freq='360min')).mean()"
   ]
  },
  {
   "cell_type": "code",
   "execution_count": 5,
   "metadata": {},
   "outputs": [],
   "source": [
    "pumpe = pumpe.groupby(pd.Grouper(key='DateTime', freq='360min')).mean()"
   ]
  },
  {
   "cell_type": "code",
   "execution_count": 6,
   "metadata": {},
   "outputs": [],
   "source": [
    "zylinder = zylinder.groupby(pd.Grouper(key='DateTime', freq='360min')).mean()"
   ]
  },
  {
   "cell_type": "markdown",
   "metadata": {},
   "source": [
    "Es sind Daten von 3 Messstationen vorhanden, sowie ein Log der Events"
   ]
  },
  {
   "cell_type": "code",
   "execution_count": 7,
   "metadata": {},
   "outputs": [],
   "source": [
    "#Fehlercode als Faktor codieren\n",
    "events['MES_Reasoncode'] = events['MES_Reasoncode'].astype(object)\n",
    "\n",
    "events['DateTime'] = pd.to_datetime(events.DateTime)"
   ]
  },
  {
   "cell_type": "code",
   "execution_count": 8,
   "metadata": {},
   "outputs": [
    {
     "data": {
      "text/html": [
       "<div>\n",
       "<style scoped>\n",
       "    .dataframe tbody tr th:only-of-type {\n",
       "        vertical-align: middle;\n",
       "    }\n",
       "\n",
       "    .dataframe tbody tr th {\n",
       "        vertical-align: top;\n",
       "    }\n",
       "\n",
       "    .dataframe thead th {\n",
       "        text-align: right;\n",
       "    }\n",
       "</style>\n",
       "<table border=\"1\" class=\"dataframe\">\n",
       "  <thead>\n",
       "    <tr style=\"text-align: right;\">\n",
       "      <th></th>\n",
       "      <th>DateTime</th>\n",
       "      <th>KT04_Maschinenstillstand</th>\n",
       "      <th>MES_Reasoncode</th>\n",
       "    </tr>\n",
       "  </thead>\n",
       "  <tbody>\n",
       "    <tr>\n",
       "      <th>0</th>\n",
       "      <td>2017-05-31 06:00:00</td>\n",
       "      <td>1</td>\n",
       "      <td>620</td>\n",
       "    </tr>\n",
       "    <tr>\n",
       "      <th>1</th>\n",
       "      <td>2017-11-07 22:00:00</td>\n",
       "      <td>1</td>\n",
       "      <td>503</td>\n",
       "    </tr>\n",
       "    <tr>\n",
       "      <th>2</th>\n",
       "      <td>2017-12-07 06:00:00</td>\n",
       "      <td>1</td>\n",
       "      <td>503</td>\n",
       "    </tr>\n",
       "    <tr>\n",
       "      <th>3</th>\n",
       "      <td>2017-10-10 06:00:00</td>\n",
       "      <td>1</td>\n",
       "      <td>503</td>\n",
       "    </tr>\n",
       "    <tr>\n",
       "      <th>4</th>\n",
       "      <td>2017-10-10 22:00:00</td>\n",
       "      <td>1</td>\n",
       "      <td>503</td>\n",
       "    </tr>\n",
       "  </tbody>\n",
       "</table>\n",
       "</div>"
      ],
      "text/plain": [
       "             DateTime  KT04_Maschinenstillstand MES_Reasoncode\n",
       "0 2017-05-31 06:00:00                         1            620\n",
       "1 2017-11-07 22:00:00                         1            503\n",
       "2 2017-12-07 06:00:00                         1            503\n",
       "3 2017-10-10 06:00:00                         1            503\n",
       "4 2017-10-10 22:00:00                         1            503"
      ]
     },
     "execution_count": 8,
     "metadata": {},
     "output_type": "execute_result"
    }
   ],
   "source": [
    "events.head()"
   ]
  },
  {
   "cell_type": "markdown",
   "metadata": {},
   "source": [
    "Events sind nich in richtiger Reihenfolge -> sortieren"
   ]
  },
  {
   "cell_type": "code",
   "execution_count": 9,
   "metadata": {},
   "outputs": [],
   "source": [
    "events = events.sort_values('DateTime')"
   ]
  },
  {
   "cell_type": "markdown",
   "metadata": {},
   "source": [
    "Das Feature MES_Reasoncode ist relevant, um den Grund des Stillstandes zu ermitteln. Es soll ein Maschinenstillstand vorausgesagt werden."
   ]
  },
  {
   "cell_type": "code",
   "execution_count": 10,
   "metadata": {},
   "outputs": [],
   "source": [
    "#Mergen der Daten\n",
    "merge1 = pd.merge(luftfilter,pumpe,on=\"DateTime\")\n",
    "merge2 = pd.merge(zylinder, events,how=\"outer\" ,on=\"DateTime\")"
   ]
  },
  {
   "cell_type": "code",
   "execution_count": 11,
   "metadata": {},
   "outputs": [],
   "source": [
    "data = pd.merge(merge1,merge2, how=\"outer\",on=\"DateTime\")"
   ]
  },
  {
   "cell_type": "code",
   "execution_count": 12,
   "metadata": {},
   "outputs": [
    {
     "data": {
      "text/html": [
       "<div>\n",
       "<style scoped>\n",
       "    .dataframe tbody tr th:only-of-type {\n",
       "        vertical-align: middle;\n",
       "    }\n",
       "\n",
       "    .dataframe tbody tr th {\n",
       "        vertical-align: top;\n",
       "    }\n",
       "\n",
       "    .dataframe thead th {\n",
       "        text-align: right;\n",
       "    }\n",
       "</style>\n",
       "<table border=\"1\" class=\"dataframe\">\n",
       "  <thead>\n",
       "    <tr style=\"text-align: right;\">\n",
       "      <th></th>\n",
       "      <th>DateTime</th>\n",
       "      <th>Luftfilter</th>\n",
       "      <th>Pumpendruck</th>\n",
       "      <th>Zylinderdruck</th>\n",
       "      <th>Maschinenstillstand</th>\n",
       "      <th>Fehlercode</th>\n",
       "    </tr>\n",
       "  </thead>\n",
       "  <tbody>\n",
       "    <tr>\n",
       "      <th>0</th>\n",
       "      <td>2017-01-01 00:00:00</td>\n",
       "      <td>37.500000</td>\n",
       "      <td>110.262204</td>\n",
       "      <td>111.784615</td>\n",
       "      <td>0.0</td>\n",
       "      <td>NaN</td>\n",
       "    </tr>\n",
       "    <tr>\n",
       "      <th>1</th>\n",
       "      <td>2017-01-01 06:00:00</td>\n",
       "      <td>33.090909</td>\n",
       "      <td>101.028021</td>\n",
       "      <td>106.850000</td>\n",
       "      <td>0.0</td>\n",
       "      <td>NaN</td>\n",
       "    </tr>\n",
       "    <tr>\n",
       "      <th>2</th>\n",
       "      <td>2017-01-01 12:00:00</td>\n",
       "      <td>33.250000</td>\n",
       "      <td>161.336352</td>\n",
       "      <td>109.462928</td>\n",
       "      <td>0.0</td>\n",
       "      <td>NaN</td>\n",
       "    </tr>\n",
       "    <tr>\n",
       "      <th>3</th>\n",
       "      <td>2017-01-01 18:00:00</td>\n",
       "      <td>29.892857</td>\n",
       "      <td>154.374667</td>\n",
       "      <td>103.761145</td>\n",
       "      <td>0.0</td>\n",
       "      <td>NaN</td>\n",
       "    </tr>\n",
       "    <tr>\n",
       "      <th>4</th>\n",
       "      <td>2017-01-02 00:00:00</td>\n",
       "      <td>34.800000</td>\n",
       "      <td>156.110791</td>\n",
       "      <td>106.111753</td>\n",
       "      <td>0.0</td>\n",
       "      <td>NaN</td>\n",
       "    </tr>\n",
       "  </tbody>\n",
       "</table>\n",
       "</div>"
      ],
      "text/plain": [
       "             DateTime  Luftfilter  Pumpendruck  Zylinderdruck  \\\n",
       "0 2017-01-01 00:00:00   37.500000   110.262204     111.784615   \n",
       "1 2017-01-01 06:00:00   33.090909   101.028021     106.850000   \n",
       "2 2017-01-01 12:00:00   33.250000   161.336352     109.462928   \n",
       "3 2017-01-01 18:00:00   29.892857   154.374667     103.761145   \n",
       "4 2017-01-02 00:00:00   34.800000   156.110791     106.111753   \n",
       "\n",
       "   Maschinenstillstand Fehlercode  \n",
       "0                  0.0        NaN  \n",
       "1                  0.0        NaN  \n",
       "2                  0.0        NaN  \n",
       "3                  0.0        NaN  \n",
       "4                  0.0        NaN  "
      ]
     },
     "execution_count": 12,
     "metadata": {},
     "output_type": "execute_result"
    }
   ],
   "source": [
    "data.columns= [\"DateTime\",\"Luftfilter\",\"Pumpendruck\",\"Zylinderdruck\",\"Maschinenstillstand\",\"Fehlercode\"]\n",
    "#Maschinenstillstand ist mit 1 = Ja condiert, füllen von Nas mit 0 = nein\n",
    "data[\"Maschinenstillstand\"]=data[\"Maschinenstillstand\"].fillna(value=0)\n",
    "data['DateTime'] = pd.to_datetime(data.DateTime)\n",
    "data.head()\n",
    "\n"
   ]
  },
  {
   "cell_type": "code",
   "execution_count": 13,
   "metadata": {},
   "outputs": [
    {
     "data": {
      "text/plain": [
       "(array([736330., 736450., 736573., 736695., 736815., 736938., 737060.,\n",
       "        737180., 737303., 737425.]), <a list of 10 Text xticklabel objects>)"
      ]
     },
     "execution_count": 13,
     "metadata": {},
     "output_type": "execute_result"
    },
    {
     "data": {
      "image/png": "[encoded data removed]",
      "text/plain": [
       "<Figure size 1440x504 with 1 Axes>"
      ]
     },
     "metadata": {
      "needs_background": "light"
     },
     "output_type": "display_data"
    }
   ],
   "source": [
    "from pandas.plotting import register_matplotlib_converters\n",
    "register_matplotlib_converters()\n",
    "\n",
    "\n",
    "plt.figure(figsize=(20, 7))\n",
    "plt.plot_date(x=data.DateTime,y=data.Luftfilter, label = 'Luftfilter')\n",
    "plt.plot_date(x=data.DateTime,y=data.Pumpendruck, label = 'Pumpendruck')\n",
    "plt.plot_date(x=data.DateTime,y=data.Zylinderdruck, label = 'Zylinderdruck')\n",
    "plt.plot_date(x=data.DateTime,y=data.Maschinenstillstand,label = 'Maschinenstillstand')\n",
    "\n",
    "plt.legend()\n",
    "plt.xlabel('Date')\n",
    "plt.xticks(rotation=45)"
   ]
  },
  {
   "cell_type": "markdown",
   "metadata": {},
   "source": [
    "Plottet man die Messdaten, sieht man, dass die Werte des Luftfilters immer wieder schlagartig ansteigen. Wärend diesen Phasen, werden keine Werte für den Pumpendruck aufgezeichnet. Es könnte sich bei dem plötzlichen Anstieg um einen Zeitreiheneffekt handen, dann müsste man die Werte aller drei Messungen vor dem Anstieg für die Klassifizierung Maschinenstillstand ja/nein betrachtet werden. Maschienenstillstände kommen zu häufig vor -> Reduzierung des Datensatzes, Fokus auf einen bestimmten Zeitraum."
   ]
  },
  {
   "cell_type": "markdown",
   "metadata": {},
   "source": [
    "Wir fokusieren uns nur auf einenen bestimmten Zeitraum"
   ]
  },
  {
   "cell_type": "code",
   "execution_count": 14,
   "metadata": {},
   "outputs": [],
   "source": [
    "data_na  = data[(data['DateTime'] < '2017-02-28-00:00:00.000')]"
   ]
  },
  {
   "cell_type": "code",
   "execution_count": 15,
   "metadata": {},
   "outputs": [
    {
     "data": {
      "text/html": [
       "<div>\n",
       "<style scoped>\n",
       "    .dataframe tbody tr th:only-of-type {\n",
       "        vertical-align: middle;\n",
       "    }\n",
       "\n",
       "    .dataframe tbody tr th {\n",
       "        vertical-align: top;\n",
       "    }\n",
       "\n",
       "    .dataframe thead th {\n",
       "        text-align: right;\n",
       "    }\n",
       "</style>\n",
       "<table border=\"1\" class=\"dataframe\">\n",
       "  <thead>\n",
       "    <tr style=\"text-align: right;\">\n",
       "      <th></th>\n",
       "      <th>DateTime</th>\n",
       "      <th>Luftfilter</th>\n",
       "      <th>Pumpendruck</th>\n",
       "      <th>Zylinderdruck</th>\n",
       "      <th>Maschinenstillstand</th>\n",
       "      <th>Fehlercode</th>\n",
       "    </tr>\n",
       "  </thead>\n",
       "  <tbody>\n",
       "    <tr>\n",
       "      <th>0</th>\n",
       "      <td>2017-01-01 00:00:00</td>\n",
       "      <td>37.500000</td>\n",
       "      <td>110.262204</td>\n",
       "      <td>111.784615</td>\n",
       "      <td>0.0</td>\n",
       "      <td>NaN</td>\n",
       "    </tr>\n",
       "    <tr>\n",
       "      <th>1</th>\n",
       "      <td>2017-01-01 06:00:00</td>\n",
       "      <td>33.090909</td>\n",
       "      <td>101.028021</td>\n",
       "      <td>106.850000</td>\n",
       "      <td>0.0</td>\n",
       "      <td>NaN</td>\n",
       "    </tr>\n",
       "    <tr>\n",
       "      <th>2</th>\n",
       "      <td>2017-01-01 12:00:00</td>\n",
       "      <td>33.250000</td>\n",
       "      <td>161.336352</td>\n",
       "      <td>109.462928</td>\n",
       "      <td>0.0</td>\n",
       "      <td>NaN</td>\n",
       "    </tr>\n",
       "    <tr>\n",
       "      <th>3</th>\n",
       "      <td>2017-01-01 18:00:00</td>\n",
       "      <td>29.892857</td>\n",
       "      <td>154.374667</td>\n",
       "      <td>103.761145</td>\n",
       "      <td>0.0</td>\n",
       "      <td>NaN</td>\n",
       "    </tr>\n",
       "    <tr>\n",
       "      <th>4</th>\n",
       "      <td>2017-01-02 00:00:00</td>\n",
       "      <td>34.800000</td>\n",
       "      <td>156.110791</td>\n",
       "      <td>106.111753</td>\n",
       "      <td>0.0</td>\n",
       "      <td>NaN</td>\n",
       "    </tr>\n",
       "  </tbody>\n",
       "</table>\n",
       "</div>"
      ],
      "text/plain": [
       "             DateTime  Luftfilter  Pumpendruck  Zylinderdruck  \\\n",
       "0 2017-01-01 00:00:00   37.500000   110.262204     111.784615   \n",
       "1 2017-01-01 06:00:00   33.090909   101.028021     106.850000   \n",
       "2 2017-01-01 12:00:00   33.250000   161.336352     109.462928   \n",
       "3 2017-01-01 18:00:00   29.892857   154.374667     103.761145   \n",
       "4 2017-01-02 00:00:00   34.800000   156.110791     106.111753   \n",
       "\n",
       "   Maschinenstillstand Fehlercode  \n",
       "0                  0.0        NaN  \n",
       "1                  0.0        NaN  \n",
       "2                  0.0        NaN  \n",
       "3                  0.0        NaN  \n",
       "4                  0.0        NaN  "
      ]
     },
     "execution_count": 15,
     "metadata": {},
     "output_type": "execute_result"
    }
   ],
   "source": [
    "data_na.head()"
   ]
  },
  {
   "cell_type": "code",
   "execution_count": 16,
   "metadata": {
    "scrolled": true
   },
   "outputs": [
    {
     "data": {
      "text/plain": [
       "(array([736330., 736337., 736344., 736351., 736361., 736368., 736375.,\n",
       "        736382., 736389.]), <a list of 9 Text xticklabel objects>)"
      ]
     },
     "execution_count": 16,
     "metadata": {},
     "output_type": "execute_result"
    },
    {
     "data": {
      "image/png": "[encoded data removed]",
      "text/plain": [
       "<Figure size 1440x360 with 1 Axes>"
      ]
     },
     "metadata": {
      "needs_background": "light"
     },
     "output_type": "display_data"
    }
   ],
   "source": [
    "plt.figure(figsize=(20, 5))\n",
    "plt.plot_date(x=data_na.DateTime,y=data_na.Luftfilter, label = 'Luftfilter')\n",
    "plt.plot_date(x=data_na.DateTime,y=data_na.Pumpendruck,label = 'Pumpendruck')\n",
    "plt.plot_date(x=data_na.DateTime,y=data_na.Zylinderdruck,label = 'Zylinderdruck')\n",
    "\n",
    "plt.legend()\n",
    "plt.xlabel('Date')\n",
    "plt.xticks(rotation=45)\n",
    "\n",
    "\n"
   ]
  },
  {
   "cell_type": "markdown",
   "metadata": {},
   "source": [
    "In der unteren Tabelle ist die häufigkeit der einzelnen Fehlercodes angezeigt. Da nicht bekannt ist, für welchen Fehler die jeweiligen Fehlercodes stehen, "
   ]
  },
  {
   "cell_type": "code",
   "execution_count": 17,
   "metadata": {},
   "outputs": [
    {
     "data": {
      "text/html": [
       "<div>\n",
       "<style scoped>\n",
       "    .dataframe tbody tr th:only-of-type {\n",
       "        vertical-align: middle;\n",
       "    }\n",
       "\n",
       "    .dataframe tbody tr th {\n",
       "        vertical-align: top;\n",
       "    }\n",
       "\n",
       "    .dataframe thead th {\n",
       "        text-align: right;\n",
       "    }\n",
       "</style>\n",
       "<table border=\"1\" class=\"dataframe\">\n",
       "  <thead>\n",
       "    <tr style=\"text-align: right;\">\n",
       "      <th></th>\n",
       "      <th>DateTime</th>\n",
       "      <th>Luftfilter</th>\n",
       "      <th>Pumpendruck</th>\n",
       "      <th>Zylinderdruck</th>\n",
       "      <th>Maschinenstillstand</th>\n",
       "    </tr>\n",
       "    <tr>\n",
       "      <th>Fehlercode</th>\n",
       "      <th></th>\n",
       "      <th></th>\n",
       "      <th></th>\n",
       "      <th></th>\n",
       "      <th></th>\n",
       "    </tr>\n",
       "  </thead>\n",
       "  <tbody>\n",
       "    <tr>\n",
       "      <th>901</th>\n",
       "      <td>1</td>\n",
       "      <td>0</td>\n",
       "      <td>0</td>\n",
       "      <td>0</td>\n",
       "      <td>1</td>\n",
       "    </tr>\n",
       "    <tr>\n",
       "      <th>850</th>\n",
       "      <td>1</td>\n",
       "      <td>0</td>\n",
       "      <td>0</td>\n",
       "      <td>0</td>\n",
       "      <td>1</td>\n",
       "    </tr>\n",
       "    <tr>\n",
       "      <th>685</th>\n",
       "      <td>1</td>\n",
       "      <td>0</td>\n",
       "      <td>0</td>\n",
       "      <td>0</td>\n",
       "      <td>1</td>\n",
       "    </tr>\n",
       "    <tr>\n",
       "      <th>663</th>\n",
       "      <td>1</td>\n",
       "      <td>0</td>\n",
       "      <td>0</td>\n",
       "      <td>0</td>\n",
       "      <td>1</td>\n",
       "    </tr>\n",
       "    <tr>\n",
       "      <th>539</th>\n",
       "      <td>2</td>\n",
       "      <td>0</td>\n",
       "      <td>0</td>\n",
       "      <td>0</td>\n",
       "      <td>2</td>\n",
       "    </tr>\n",
       "    <tr>\n",
       "      <th>682</th>\n",
       "      <td>2</td>\n",
       "      <td>0</td>\n",
       "      <td>0</td>\n",
       "      <td>0</td>\n",
       "      <td>2</td>\n",
       "    </tr>\n",
       "    <tr>\n",
       "      <th>668</th>\n",
       "      <td>2</td>\n",
       "      <td>0</td>\n",
       "      <td>0</td>\n",
       "      <td>0</td>\n",
       "      <td>2</td>\n",
       "    </tr>\n",
       "    <tr>\n",
       "      <th>531</th>\n",
       "      <td>3</td>\n",
       "      <td>0</td>\n",
       "      <td>0</td>\n",
       "      <td>0</td>\n",
       "      <td>3</td>\n",
       "    </tr>\n",
       "    <tr>\n",
       "      <th>534</th>\n",
       "      <td>3</td>\n",
       "      <td>0</td>\n",
       "      <td>0</td>\n",
       "      <td>0</td>\n",
       "      <td>3</td>\n",
       "    </tr>\n",
       "    <tr>\n",
       "      <th>681</th>\n",
       "      <td>4</td>\n",
       "      <td>0</td>\n",
       "      <td>0</td>\n",
       "      <td>0</td>\n",
       "      <td>4</td>\n",
       "    </tr>\n",
       "    <tr>\n",
       "      <th>669</th>\n",
       "      <td>4</td>\n",
       "      <td>0</td>\n",
       "      <td>0</td>\n",
       "      <td>0</td>\n",
       "      <td>4</td>\n",
       "    </tr>\n",
       "    <tr>\n",
       "      <th>530</th>\n",
       "      <td>5</td>\n",
       "      <td>0</td>\n",
       "      <td>0</td>\n",
       "      <td>0</td>\n",
       "      <td>5</td>\n",
       "    </tr>\n",
       "    <tr>\n",
       "      <th>713</th>\n",
       "      <td>5</td>\n",
       "      <td>0</td>\n",
       "      <td>0</td>\n",
       "      <td>0</td>\n",
       "      <td>5</td>\n",
       "    </tr>\n",
       "    <tr>\n",
       "      <th>533</th>\n",
       "      <td>6</td>\n",
       "      <td>0</td>\n",
       "      <td>0</td>\n",
       "      <td>0</td>\n",
       "      <td>6</td>\n",
       "    </tr>\n",
       "    <tr>\n",
       "      <th>536</th>\n",
       "      <td>6</td>\n",
       "      <td>0</td>\n",
       "      <td>0</td>\n",
       "      <td>0</td>\n",
       "      <td>6</td>\n",
       "    </tr>\n",
       "    <tr>\n",
       "      <th>508</th>\n",
       "      <td>8</td>\n",
       "      <td>0</td>\n",
       "      <td>0</td>\n",
       "      <td>0</td>\n",
       "      <td>8</td>\n",
       "    </tr>\n",
       "    <tr>\n",
       "      <th>596</th>\n",
       "      <td>8</td>\n",
       "      <td>0</td>\n",
       "      <td>0</td>\n",
       "      <td>0</td>\n",
       "      <td>8</td>\n",
       "    </tr>\n",
       "    <tr>\n",
       "      <th>667</th>\n",
       "      <td>9</td>\n",
       "      <td>0</td>\n",
       "      <td>0</td>\n",
       "      <td>0</td>\n",
       "      <td>9</td>\n",
       "    </tr>\n",
       "    <tr>\n",
       "      <th>526</th>\n",
       "      <td>11</td>\n",
       "      <td>0</td>\n",
       "      <td>0</td>\n",
       "      <td>0</td>\n",
       "      <td>11</td>\n",
       "    </tr>\n",
       "    <tr>\n",
       "      <th>665</th>\n",
       "      <td>13</td>\n",
       "      <td>0</td>\n",
       "      <td>0</td>\n",
       "      <td>0</td>\n",
       "      <td>13</td>\n",
       "    </tr>\n",
       "    <tr>\n",
       "      <th>532</th>\n",
       "      <td>22</td>\n",
       "      <td>0</td>\n",
       "      <td>0</td>\n",
       "      <td>0</td>\n",
       "      <td>22</td>\n",
       "    </tr>\n",
       "    <tr>\n",
       "      <th>666</th>\n",
       "      <td>22</td>\n",
       "      <td>0</td>\n",
       "      <td>0</td>\n",
       "      <td>0</td>\n",
       "      <td>22</td>\n",
       "    </tr>\n",
       "    <tr>\n",
       "      <th>687</th>\n",
       "      <td>26</td>\n",
       "      <td>0</td>\n",
       "      <td>0</td>\n",
       "      <td>0</td>\n",
       "      <td>26</td>\n",
       "    </tr>\n",
       "    <tr>\n",
       "      <th>676</th>\n",
       "      <td>33</td>\n",
       "      <td>0</td>\n",
       "      <td>0</td>\n",
       "      <td>0</td>\n",
       "      <td>33</td>\n",
       "    </tr>\n",
       "    <tr>\n",
       "      <th>538</th>\n",
       "      <td>40</td>\n",
       "      <td>0</td>\n",
       "      <td>0</td>\n",
       "      <td>0</td>\n",
       "      <td>40</td>\n",
       "    </tr>\n",
       "    <tr>\n",
       "      <th>864</th>\n",
       "      <td>77</td>\n",
       "      <td>0</td>\n",
       "      <td>0</td>\n",
       "      <td>0</td>\n",
       "      <td>77</td>\n",
       "    </tr>\n",
       "    <tr>\n",
       "      <th>856</th>\n",
       "      <td>303</td>\n",
       "      <td>1</td>\n",
       "      <td>1</td>\n",
       "      <td>1</td>\n",
       "      <td>303</td>\n",
       "    </tr>\n",
       "  </tbody>\n",
       "</table>\n",
       "</div>"
      ],
      "text/plain": [
       "            DateTime  Luftfilter  Pumpendruck  Zylinderdruck  \\\n",
       "Fehlercode                                                     \n",
       "901                1           0            0              0   \n",
       "850                1           0            0              0   \n",
       "685                1           0            0              0   \n",
       "663                1           0            0              0   \n",
       "539                2           0            0              0   \n",
       "682                2           0            0              0   \n",
       "668                2           0            0              0   \n",
       "531                3           0            0              0   \n",
       "534                3           0            0              0   \n",
       "681                4           0            0              0   \n",
       "669                4           0            0              0   \n",
       "530                5           0            0              0   \n",
       "713                5           0            0              0   \n",
       "533                6           0            0              0   \n",
       "536                6           0            0              0   \n",
       "508                8           0            0              0   \n",
       "596                8           0            0              0   \n",
       "667                9           0            0              0   \n",
       "526               11           0            0              0   \n",
       "665               13           0            0              0   \n",
       "532               22           0            0              0   \n",
       "666               22           0            0              0   \n",
       "687               26           0            0              0   \n",
       "676               33           0            0              0   \n",
       "538               40           0            0              0   \n",
       "864               77           0            0              0   \n",
       "856              303           1            1              1   \n",
       "\n",
       "            Maschinenstillstand  \n",
       "Fehlercode                       \n",
       "901                           1  \n",
       "850                           1  \n",
       "685                           1  \n",
       "663                           1  \n",
       "539                           2  \n",
       "682                           2  \n",
       "668                           2  \n",
       "531                           3  \n",
       "534                           3  \n",
       "681                           4  \n",
       "669                           4  \n",
       "530                           5  \n",
       "713                           5  \n",
       "533                           6  \n",
       "536                           6  \n",
       "508                           8  \n",
       "596                           8  \n",
       "667                           9  \n",
       "526                          11  \n",
       "665                          13  \n",
       "532                          22  \n",
       "666                          22  \n",
       "687                          26  \n",
       "676                          33  \n",
       "538                          40  \n",
       "864                          77  \n",
       "856                         303  "
      ]
     },
     "execution_count": 17,
     "metadata": {},
     "output_type": "execute_result"
    }
   ],
   "source": [
    "codes = data_na.groupby('Fehlercode').count().sort_values('DateTime').head(5)\n",
    "data_na.groupby('Fehlercode').count().sort_values('DateTime')"
   ]
  },
  {
   "cell_type": "code",
   "execution_count": 18,
   "metadata": {},
   "outputs": [],
   "source": [
    "graph_lines = pd.DataFrame(codes.index.values)\n",
    "dates = []\n",
    "\n",
    "for i in range(0,len(codes)):\n",
    "    # = \n",
    "    #dates.append(data_na[\"DateTime\"].loc[data_na['Fehlercode'] == int(graph_lines.loc[i])])\n",
    "    dates.append(data_na[\"DateTime\"].loc[data_na['Fehlercode'] == int(graph_lines.loc[i])].dt.to_pydatetime())\n",
    "\n",
    "for i in range (0, len(dates)):\n",
    "    dates[i] == pd.to_datetime(dates[i])\n",
    "    "
   ]
  },
  {
   "cell_type": "code",
   "execution_count": 19,
   "metadata": {},
   "outputs": [],
   "source": [
    "d = {'DateTime': dates, 'Code': codes.index.values}\n",
    "df = pd.DataFrame(d)\n",
    "codes = df.explode('DateTime')\n"
   ]
  },
  {
   "cell_type": "code",
   "execution_count": 20,
   "metadata": {},
   "outputs": [
    {
     "data": {
      "text/plain": [
       "DateTime    2017-02-07 19:34:24\n",
       "Code                        901\n",
       "dtype: object"
      ]
     },
     "execution_count": 20,
     "metadata": {},
     "output_type": "execute_result"
    }
   ],
   "source": [
    "codes.max()"
   ]
  },
  {
   "cell_type": "code",
   "execution_count": 21,
   "metadata": {},
   "outputs": [
    {
     "data": {
      "text/plain": [
       "(array([736330., 736337., 736344., 736351., 736361., 736368., 736375.,\n",
       "        736382., 736389.]), <a list of 9 Text xticklabel objects>)"
      ]
     },
     "execution_count": 21,
     "metadata": {},
     "output_type": "execute_result"
    },
    {
     "data": {
      "image/png": "[encoded data removed]",
      "text/plain": [
       "<Figure size 1440x504 with 1 Axes>"
      ]
     },
     "metadata": {
      "needs_background": "light"
     },
     "output_type": "display_data"
    }
   ],
   "source": [
    "plt.figure(figsize=(20, 7))\n",
    "plt.plot_date(x=data_na.DateTime,y=data_na.Luftfilter,label='Luftfilter')\n",
    "plt.plot_date(x=data_na.DateTime,y=data_na.Pumpendruck,label ='Pumpendruck')\n",
    "plt.plot_date(x=data_na.DateTime,y=data_na.Zylinderdruck,label = 'Zylinderdruck')\n",
    "\n",
    "for i in range(0,len(codes)):\n",
    "    \n",
    "    plt.axvline(x= codes['DateTime'].iloc[i])\n",
    "    plt.text(codes['DateTime'].iloc[i],160,codes['Code'].iloc[i],rotation=90)\n",
    "\n",
    "\n",
    "\n",
    "plt.legend()\n",
    "plt.xlabel('Date')\n",
    "plt.xticks(rotation=45)\n"
   ]
  },
  {
   "cell_type": "markdown",
   "metadata": {},
   "source": [
    "## Anomaly detection mit datastream"
   ]
  },
  {
   "cell_type": "code",
   "execution_count": 22,
   "metadata": {},
   "outputs": [],
   "source": [
    "from dsio.main import restream_dataframe\n",
    "from dsio.anomaly_detectors import Percentile1D"
   ]
  },
  {
   "cell_type": "code",
   "execution_count": 23,
   "metadata": {},
   "outputs": [],
   "source": [
    "data_test = data_na.drop(['DateTime'], axis=1)"
   ]
  },
  {
   "cell_type": "code",
   "execution_count": 35,
   "metadata": {},
   "outputs": [],
   "source": [
    "#restream_dataframe(data_test,Percentile1D)\n",
    "#restream_dataframe(data_na,detector,sensors=['Luftfilter','Pumpendruck','Zylinderdruck'],speed=50,cols=2)"
   ]
  },
  {
   "cell_type": "markdown",
   "metadata": {},
   "source": [
    "# Klassifizierung 0/1 Maschinenstillstand mit sklearn -> logistic regression"
   ]
  },
  {
   "cell_type": "code",
   "execution_count": 25,
   "metadata": {},
   "outputs": [],
   "source": [
    "#NAs imputen mit Spalten-Mean\n",
    "df = data_na.fillna(data_na.mean())"
   ]
  },
  {
   "cell_type": "code",
   "execution_count": 26,
   "metadata": {},
   "outputs": [],
   "source": [
    "#DateTime konvertieren in Differenz in Stunden zum 1.Datum -> 2017-01-01 00:00:00\n",
    "df['hours'] = (df['DateTime'] - df['DateTime'].min())/np.timedelta64(1, 'h')"
   ]
  },
  {
   "cell_type": "code",
   "execution_count": 27,
   "metadata": {},
   "outputs": [],
   "source": [
    "#df zu predictos (X) und output variable (y)\n",
    "\n",
    "data_model_X = df.drop(['Fehlercode','Maschinenstillstand','DateTime'], axis=1)\n",
    "data_model_y = df['Maschinenstillstand']\n"
   ]
  },
  {
   "cell_type": "code",
   "execution_count": 28,
   "metadata": {},
   "outputs": [],
   "source": [
    "#Test-train split\n",
    "from sklearn.model_selection import train_test_split\n",
    "X_train, X_test, y_train, y_test = train_test_split(data_model_X, data_model_y, test_size=0.25, random_state=42)"
   ]
  },
  {
   "cell_type": "code",
   "execution_count": 29,
   "metadata": {},
   "outputs": [
    {
     "data": {
      "text/plain": [
       "LogisticRegression(C=1.0, class_weight=None, dual=False, fit_intercept=True,\n",
       "                   intercept_scaling=1, l1_ratio=None, max_iter=100,\n",
       "                   multi_class='auto', n_jobs=None, penalty='l2',\n",
       "                   random_state=None, solver='lbfgs', tol=0.0001, verbose=0,\n",
       "                   warm_start=False)"
      ]
     },
     "execution_count": 29,
     "metadata": {},
     "output_type": "execute_result"
    }
   ],
   "source": [
    "#Train Model\n",
    "\n",
    "from sklearn.linear_model import LogisticRegression\n",
    "logisticRegr = LogisticRegression()\n",
    "logisticRegr.fit(X_train, y_train)"
   ]
  },
  {
   "cell_type": "code",
   "execution_count": 30,
   "metadata": {},
   "outputs": [],
   "source": [
    "# Prediction\n",
    "predictions = logisticRegr.predict(X_test)"
   ]
  },
  {
   "cell_type": "code",
   "execution_count": 31,
   "metadata": {},
   "outputs": [
    {
     "name": "stdout",
     "output_type": "stream",
     "text": [
      "0.7793427230046949\n"
     ]
    }
   ],
   "source": [
    "score = logisticRegr.score(X_test, y_test)\n",
    "print(score)"
   ]
  },
  {
   "cell_type": "markdown",
   "metadata": {},
   "source": [
    "Sehr schlechte Accuracy"
   ]
  },
  {
   "cell_type": "code",
   "execution_count": 32,
   "metadata": {},
   "outputs": [],
   "source": [
    "#Rückführung in Date\n",
    "prediction_graph_data = (X_test['hours']*np.timedelta64(1, 'h'))+df['DateTime'].min()"
   ]
  },
  {
   "cell_type": "code",
   "execution_count": 33,
   "metadata": {},
   "outputs": [],
   "source": [
    "codes = data_na.groupby('Fehlercode').count().sort_values('DateTime')\n",
    "graph_lines = pd.DataFrame(codes.index.values)\n",
    "dates = []\n",
    "\n",
    "for i in range(0,len(codes)):\n",
    "    # = \n",
    "    #dates.append(data_na[\"DateTime\"].loc[data_na['Fehlercode'] == int(graph_lines.loc[i])])\n",
    "    dates.append(data_na[\"DateTime\"].loc[data_na['Fehlercode'] == int(graph_lines.loc[i])].dt.to_pydatetime())\n",
    "\n",
    "for i in range (0, len(dates)):\n",
    "    dates[i] == pd.to_datetime(dates[i])\n",
    "    \n",
    "d = {'DateTime': dates, 'Code': codes.index.values}\n",
    "df = pd.DataFrame(d)\n",
    "codes = df.explode('DateTime')"
   ]
  },
  {
   "cell_type": "code",
   "execution_count": 34,
   "metadata": {},
   "outputs": [
    {
     "data": {
      "text/plain": [
       "(array([736330., 736337., 736344., 736351., 736361., 736368., 736375.,\n",
       "        736382., 736389.]), <a list of 9 Text xticklabel objects>)"
      ]
     },
     "execution_count": 34,
     "metadata": {},
     "output_type": "execute_result"
    },
    {
     "data": {
      "image/png": "[encoded data removed]",
      "text/plain": [
       "<Figure size 1440x504 with 1 Axes>"
      ]
     },
     "metadata": {
      "needs_background": "light"
     },
     "output_type": "display_data"
    }
   ],
   "source": [
    "\n",
    "plt.figure(figsize=(20, 7))\n",
    "plt.plot_date(x=data_na.DateTime,y=data_na.Luftfilter,label='Luftfilter')\n",
    "plt.plot_date(x=data_na.DateTime,y=data_na.Pumpendruck,label ='Pumpendruck')\n",
    "plt.plot_date(x=data_na.DateTime,y=data_na.Zylinderdruck,label = 'Zylinderdruck')\n",
    "\n",
    "    \n",
    "\n",
    "for i in range(0,len(prediction_graph_data)):\n",
    "    plt.axvline(x= prediction_graph_data.iloc[i], c = 'red')\n",
    "    \n",
    "    \n",
    "for i in range(0,len(codes)):\n",
    "    \n",
    "    plt.axvline(x= codes['DateTime'].iloc[i], c = 'blue')\n",
    "    plt.text(codes['DateTime'].iloc[i],160,codes['Code'].iloc[i],rotation=90)\n",
    "\n",
    "\n",
    "plt.legend()\n",
    "plt.xlabel('Date')\n",
    "plt.xticks(rotation=45)"
   ]
  },
  {
   "cell_type": "markdown",
   "metadata": {},
   "source": [
    "Plot zeigt ware Maschinenstillstände (blau) vs vorhergesagte Maschinenstillstände (rot)"
   ]
  }
 ],
 "metadata": {
  "kernelspec": {
   "display_name": "Python 3",
   "language": "python",
   "name": "python3"
  },
  "language_info": {
   "codemirror_mode": {
    "name": "ipython",
    "version": 3
   },
   "file_extension": ".py",
   "mimetype": "text/x-python",
   "name": "python",
   "nbconvert_exporter": "python",
   "pygments_lexer": "ipython3",
   "version": "3.7.3"
  }
 },
 "nbformat": 4,
 "nbformat_minor": 2
}
